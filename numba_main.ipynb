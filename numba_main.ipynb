{
 "cells": [
  {
   "cell_type": "code",
   "execution_count": 1,
   "metadata": {},
   "outputs": [],
   "source": [
    "import numpy as np\n",
    "from scipy import integrate as integ\n",
    "from scipy import signal as signal\n",
    "import sympy as sp\n",
    "import matplotlib\n",
    "from matplotlib.lines import Line2D\n",
    "from matplotlib import pyplot as plt\n",
    "import seaborn as sns\n",
    "import ipywidgets\n",
    "from tqdm import tqdm\n",
    "import multiprocessing\n",
    "###\n",
    "from turing_model import TuringModel as tm"
   ]
  },
  {
   "cell_type": "code",
   "execution_count": 2,
   "metadata": {},
   "outputs": [],
   "source": [
    "#@jit\n",
    "def slow(var, t, d_Hmax1, d_Hmax2):\n",
    "    # fill var\n",
    "    N_a = var[0]\n",
    "    N_b = var[1]\n",
    "    A_a = var[2]\n",
    "    A_b = var[3]\n",
    "    H_1a = var[4]\n",
    "    H_1b = var[5]\n",
    "    H_2a = var[6]\n",
    "    H_2b = var[7]\n",
    "    d_H1a = var[8]\n",
    "    d_H2a = var[9]\n",
    "    d_H1b = var[10]\n",
    "    d_H2b = var[11]\n",
    "    H1_loss = var[12]\n",
    "    H2_loss = var[13]\n",
    "\n",
    "    # growth rate of autotrophs\n",
    "    r_a = (r_max * N_a) / (N_h + N_a)\n",
    "    r_b = (r_max * N_b) / (N_h + N_b)\n",
    "\n",
    "    # growth rate of competitors\n",
    "    g_1a = (a_1 * A_a) / (1 + a_1 * h * A_a)\n",
    "    g_1b = (a_1 * A_b) / (1 + a_1 * h * A_b)\n",
    "    g_2a = (a_2 * A_a) / (1 + a_2 * h * A_a)\n",
    "    g_2b = (a_2 * A_b) / (1 + a_2 * h * A_b)\n",
    "\n",
    "    # inflection points\n",
    "    x_01 = D / (a_1 * (e - h * D))\n",
    "    x_02 = D / (a_2 * (e - h * D))\n",
    "\n",
    "    # dispersal rates of competitors\n",
    "    d_H1a = d_Hmax1 / (1 + np.exp(k_1 * (A_a - x_01)))\n",
    "    d_H1b = d_Hmax1 / (1 + np.exp(k_1 * (A_b - x_01)))\n",
    "    d_H2a = d_Hmax2 / (1 + np.exp(k_2 * (A_a - x_02)))\n",
    "    d_H2b = d_Hmax2 / (1 + np.exp(k_2 * (A_b - x_02)))\n",
    "\n",
    "    # change of nutrients\n",
    "    dN_a = D * (S - N_a) - r_a * A_a + d_N * (N_b - N_a)\n",
    "    dN_b = D * (S - N_b) - r_b * A_b + d_N * (N_a - N_b)\n",
    "\n",
    "    # change of autotrophs\n",
    "    dA_a = r_a * A_a - ((g_1a * H_1a) + (g_2a * H_2a)) - D * A_a + d_A * (A_b - A_a)\n",
    "    dA_b = r_b * A_b - ((g_1b * H_1b) + (g_2b * H_2b)) - D * A_b + d_A * (A_a - A_b)\n",
    "\n",
    "    # change of competitors\n",
    "    dH_1a = e * g_1a * H_1a - D * H_1a - d_H1a * H_1a + d_H1b * H_1b\n",
    "    dH_1b = e * g_1b * H_1b - D * H_1b - d_H1b * H_1b + d_H1a * H_1a\n",
    "    dH_2a = e * g_2a * H_2a - D * H_2a - d_H2a * H_2a + d_H2b * H_2b\n",
    "    dH_2b = e * g_2b * H_2b - D * H_2b - d_H2b * H_2b + d_H2a * H_2a\n",
    "\n",
    "    H1_loss = d_H1a-(d_H1a * dH_1a)/(1 + np.exp(k_1 * (A_a - x_01)))\n",
    "    H2_loss = d_H2a-(d_H2a * dH_2a)/(1 + np.exp(k_2 * (A_a - x_02)))\n",
    "\n",
    "    return(dN_a, dN_b, dA_a, dA_b, dH_1a, dH_1b, dH_2a, dH_2b, d_H1a, d_H2a, d_H1b, d_H2b, H1_loss, H2_loss)"
   ]
  },
  {
   "cell_type": "code",
   "execution_count": 3,
   "metadata": {},
   "outputs": [],
   "source": [
    "# var\n",
    "var = []\n",
    "\n",
    "# set parameters\n",
    "S = 4.8 # Nutrient supply concentration\n",
    "D = 0.3 # Dilution rate\n",
    "N_h = 1.5 # half saturation constant for nutrient uptake\n",
    "r_max = 0.7 # growth rate of autotroph\n",
    "h = 0.53 # handling time\n",
    "e = 0.33 # conversion efficiency of competitor\n",
    "d_N = 1 # Dispersal rate of nutrients \n",
    "d_A = 0.001 # dispersal rate of autotrophs\n",
    "\n",
    "# competitiveness \n",
    "a_1 = 1 # attack rate of competitor 1 \n",
    "a_2 = 1 # attack rate of competitor 2 \n",
    "\n",
    "# adaptability\n",
    "k_1 = 0 # dispersal adaptability of competitor 1 \n",
    "k_2 = 2 # dispersal adaptability of competitor 2 \n",
    "        # 0 = random dispersal, 2 = adaptive dispersal\n",
    "\n",
    "# dispersal speed \n"
   ]
  },
  {
   "cell_type": "code",
   "execution_count": 4,
   "metadata": {},
   "outputs": [],
   "source": [
    "t_end = 100 #4000  # 100000\n",
    "number_steps = 100 #2000  # 25000\n",
    "t = np.linspace(0, t_end, number_steps)\n",
    "# dispersal adaptability\n",
    "k_1 = 5\n",
    "k_2 = 0\n",
    "# maximum dispersal rate\n",
    "# d_Hmax1 = 10**-2\n",
    "# d_Hmax2 = 10**-2\n",
    "d_Hmax_range = np.logspace(-3, 1, 6)\n",
    "\n",
    "# var = [N_a, N_b, A_a, A_b, H_1a, H_1b, H_2a, H_2b]\n",
    "var0 = [2, 2.5, 2.5, 2, 0.08, 0.4, 0.08, 0.4, 0, 0, 0, 0, 0, 0]\n",
    "var = []\n",
    "#meandensity_H1x = np.zeros(((len(d_Hmax_range)),(len(d_Hmax_range))))\n",
    "meandensity_H1x = np.zeros((len(d_Hmax_range)))\n",
    "i=0\n",
    "j=0\n",
    "def fast(i): #(i,j)\n",
    "    k_1 = 5\n",
    "    k_2 = 0\t\n",
    "    t_end = 100\n",
    "    number_steps = 100\n",
    "    t = np.linspace(0, t_end, number_steps)\n",
    "    var0 = [2, 2.5, 2.5, 2, 0.08, 0.4, 0.08, 0.4, 0, 0, 0, 0, 0, 0]\n",
    "    var = []\n",
    "    d_Hmax1 = d_Hmax_range[i]\n",
    "    d_Hmax2 = 1#d_Hmax_range[j]\n",
    "    var = integ.odeint(slow, var0, t, args=(d_Hmax1 , d_Hmax2))\n",
    "    meandensity_H1x[i] = np.mean(var[-200:-1, 4]) # [i,j]\n",
    "    # if i == 0 and j == 5:\n",
    "    #     print(np.mean(var[-200:-1, 4]))\n",
    "    return(var)"
   ]
  },
  {
   "cell_type": "code",
   "execution_count": 5,
   "metadata": {},
   "outputs": [],
   "source": [
    "meandensity_H1x = np.zeros(((len(d_Hmax_range)),(len(d_Hmax_range))))\n",
    "\n",
    "i = 0\n",
    "j = 0\n",
    "\n",
    "with multiprocessing.get_context(\"spawn\").Pool(6) as pool:\n",
    "    pool.map(fast, [1,2,3])\n",
    "\n",
    "#processes = []\n",
    "\n",
    "# for d_Hmax2 in d_Hmax_range:\n",
    "#     j = 0\n",
    "# for d_Hmax1 in d_Hmax_range:\n",
    "#     #processes.append(multiprocessing.Process(target=fast, args=(d_Hmax_range,i,j)))\n",
    "#     with multiprocessing.Pool(6) as pool:\n",
    "#         pool.map(fast, d_Hmax_range)\n",
    "#     j += 1\n",
    "# i += 1\n",
    "\n",
    "# for process in processes:\n",
    "#     process.start()\n",
    "# for process in processes:\n",
    "#     process.join()"
   ]
  },
  {
   "cell_type": "code",
   "execution_count": 10,
   "metadata": {},
   "outputs": [
    {
     "name": "stdout",
     "output_type": "stream",
     "text": [
      "[[0. 0. 0. 0. 0. 0.]\n",
      " [0. 0. 0. 0. 0. 0.]\n",
      " [0. 0. 0. 0. 0. 0.]\n",
      " [0. 0. 0. 0. 0. 0.]\n",
      " [0. 0. 0. 0. 0. 0.]\n",
      " [0. 0. 0. 0. 0. 0.]]\n"
     ]
    },
    {
     "data": {
      "text/plain": [
       "<Axes: >"
      ]
     },
     "execution_count": 10,
     "metadata": {},
     "output_type": "execute_result"
    },
    {
     "data": {
      "image/png": "[encoded data removed]",
      "text/plain": [
       "<Figure size 640x480 with 2 Axes>"
      ]
     },
     "metadata": {},
     "output_type": "display_data"
    }
   ],
   "source": [
    "print(meandensity_H1x)\n",
    "sns.heatmap(meandensity_H1x)"
   ]
  }
 ],
 "metadata": {
  "kernelspec": {
   "display_name": "Python 3",
   "language": "python",
   "name": "python3"
  },
  "language_info": {
   "codemirror_mode": {
    "name": "ipython",
    "version": 3
   },
   "file_extension": ".py",
   "mimetype": "text/x-python",
   "name": "python",
   "nbconvert_exporter": "python",
   "pygments_lexer": "ipython3",
   "version": "3.12.0"
  }
 },
 "nbformat": 4,
 "nbformat_minor": 2
}
