{
 "cells": [
  {
   "cell_type": "markdown",
   "metadata": {},
   "source": [
    "Rare mutant (\"superior over resident trat\") invading a resident system (at fixation). System will always go to fixation before next mutation.\n",
    "* Invasion fitness of $H_{mut}$ is given as $F_{inv} = F_{mut} - F_{res}$.\n",
    "* Invasion possible if $F_{inv} > 0$, or $F_{mut} > F_{res}$."
   ]
  },
  {
   "cell_type": "markdown",
   "metadata": {},
   "source": [
    "**Example model:**  \n",
    "* Attack rate a is evolving trait --> $a(x_{res})$  \n",
    "* $x$ is a defense trait. Higher $x$ results in a lower attack rate.\n",
    "  * Resulting in $a(x) = a_0(1 - \\theta \\cdot x)$\n",
    "  * $\\theta$ is the effectiveness of the defense\n",
    "  * $x = 0$ is no defense"
   ]
  },
  {
   "cell_type": "markdown",
   "metadata": {},
   "source": [
    "**Turing model**  \n",
    "* Evolving trait is the sensitivity $k$"
   ]
  },
  {
   "cell_type": "code",
   "execution_count": 2,
   "metadata": {},
   "outputs": [],
   "source": [
    "import numpy as np\n",
    "from matplotlib import pyplot as plt\n",
    "from scipy import optimize as opt"
   ]
  },
  {
   "cell_type": "code",
   "execution_count": null,
   "metadata": {},
   "outputs": [],
   "source": [
    "# var\n",
    "var = []\n",
    "\n",
    "# set parameters\n",
    "S = 4.8 # Nutrient supply concentration\n",
    "D = 0.3 # Dilution rate\n",
    "N_h = 1.5 # half saturation constant for nutrient uptake\n",
    "r_max = 0.7 # growth rate of autotroph\n",
    "h = 0.53 # handling time\n",
    "e = 0.33 # conversion efficiency of competitor\n",
    "d_N = 1 # Dispersal rate of nutrients \n",
    "d_A = 0.001 # dispersal rate of autotrophs\n",
    "\n",
    "# competitiveness \n",
    "a_1 = 1 # attack rate of competitor 1 \n",
    "a_2 = 1 # attack rate of competitor 2 \n",
    "\n",
    "# adaptability\n",
    "k_1 = 0 # dispersal adaptability of competitor 1 \n",
    " #k_2 = 2 # dispersal adaptability of competitor 2 \n",
    "        # 0 = random dispersal, 2 = adaptive dispersal\n",
    "\n",
    "# dispersal speed \n",
    "d_Hmax1 = 0.01 # maximal dispersal rates of competitor 1  \n",
    "d_Hmax2 = 0.01 # maximal dispersal rates of competitor 2  \n",
    "\n",
    "# time series\n",
    "t_end = 400\n",
    "number_steps = 200\n",
    "t = np.linspace(0,t_end,number_steps)\n",
    "\n",
    "# initials:[N_a, N_b, A_a, A_b, H_1a, H_1b, H_2a, H_2b]\n",
    "var0 = [2, 2.5, 2.5, 2, 0.08, 0.4, 0.08, 0.4]"
   ]
  },
  {
   "cell_type": "code",
   "execution_count": null,
   "metadata": {},
   "outputs": [],
   "source": [
    "def PIPmodel(var, x_res):\n",
    "    N_a = var[0]\n",
    "    N_b = var[1]\n",
    "    A_a = var[2]\n",
    "    A_b = var[3]\n",
    "    H_1a = var[4]\n",
    "    H_1b = var[5]\n",
    "    H_2a = var[6]\n",
    "    H_2b = var[7]\n",
    "    \n",
    "    k_2 = k_2_0 * (1 - theta * x_res)\n",
    "\n",
    "    # growth rate of autotrophs\n",
    "    r_a = (r_max * N_a) / (N_h + N_a)\n",
    "    r_b = (r_max * N_b) / (N_h + N_b)\n",
    "\n",
    "    # growth rate of competitors\n",
    "    g_1a = (a_1 * A_a) / (1 + a_1 * h * A_a)\n",
    "    g_1b = (a_1 * A_b) / (1 + a_1 * h * A_b)\n",
    "    g_2a = (a_2 * A_a) / (1 + a_2 * h * A_a)\n",
    "    g_2b = (a_2 * A_b) / (1 + a_2 * h * A_b)\n",
    "\n",
    "    # inflection points\n",
    "    x_01 = D / (a_1 * (e - h * D))\n",
    "    x_02 = D / (a_2 * (e - h * D))\n",
    "    \n",
    "    # dispersal rates of competitors\n",
    "    d_H1a = d_Hmax1 / (1 + np.exp(k_1 * (A_a - x_01)))\n",
    "    d_H1b = d_Hmax1 / (1 + np.exp(k_1 * (A_b - x_01)))\n",
    "    d_H2a = d_Hmax2 / (1 + np.exp(k_2 * (A_a - x_02)))\n",
    "    d_H2b = d_Hmax2 / (1 + np.exp(k_2 * (A_b - x_02)))\n",
    "\n",
    "    # change of nutrients\n",
    "    dN_a = D * (S - N_a) - r_a * A_a + d_N * (N_b - N_a)\n",
    "    dN_b = D * (S - N_b) - r_b * A_b + d_N * (N_a - N_b)\n",
    "\n",
    "    # change of autotrophs\n",
    "    dA_a = r_a * A_a - ((g_1a * H_1a) + (g_2a * H_2a)) - D * A_a + d_A * (A_b - A_a)\n",
    "    dA_b = r_b * A_b - ((g_1b * H_1b) + (g_2b * H_2b)) - D * A_b + d_A * (A_a - A_b)\n",
    "\n",
    "    # change of competitors\n",
    "    dH_1a = e * g_1a * H_1a - D * H_1a - d_H1a * H_1a + d_H1b * H_1b\n",
    "    dH_1b = e * g_1b * H_1b - D * H_1b - d_H1b * H_1b + d_H1a * H_1a\n",
    "    dH_2a = e * g_2a * H_2a - D * H_2a - d_H2a * H_2a + d_H2b * H_2b\n",
    "    dH_2b = e * g_2b * H_2b - D * H_2b - d_H2b * H_2b + d_H2a * H_2a\n",
    "\n",
    "    return(dN_a, dN_b, dA_a, dA_b, dH_1a, dH_1b, dH_2a, dH_2b)"
   ]
  },
  {
   "cell_type": "markdown",
   "metadata": {},
   "source": [
    "* calculate the fixed point abundances for the entire trait range $($0 \\leq x_{res} \\leq 1$). \n",
    "* For simplicity copy from example:\n",
    "  * $\\theta = 0.999$\n",
    "  * Start $k_2$ at $10$ and approach $0$."
   ]
  },
  {
   "cell_type": "code",
   "execution_count": 12,
   "metadata": {},
   "outputs": [
    {
     "data": {
      "text/plain": [
       "0.010999000000000425"
      ]
     },
     "execution_count": 12,
     "metadata": {},
     "output_type": "execute_result"
    }
   ],
   "source": [
    "def Calculate_FP(min, max, number_values):\n",
    "    \n",
    "    # resident trait values for which we want to calculate the fixed point:\n",
    "    resident_values = np.linspace(min,max,number_values)\n",
    "    \n",
    "    # empty two-dimensional array that will store the ecological fixed points:\n",
    "    FP_results = np.empty((2,number_values))\n",
    "    \n",
    "    # initial values for the root finding command: assume 0.1 for all populations\n",
    "    initial_values = np.repeat(0.1,len(FP_results)) \n",
    "    \n",
    "    # the calculations:\n",
    "    for i in range(number_values):\n",
    "        \n",
    "        x_res = resident_values[i]\n",
    "        FP = opt.fsolve(Ecological_Model,initial_values,args=(x_res))\n",
    "        \n",
    "        for j in range(len(FP_results)): # store the results returned by the root finder\n",
    "            FP_results[j,i] = FP[j] \n",
    "        \n",
    "    return [resident_values,FP_results]"
   ]
  }
 ],
 "metadata": {
  "kernelspec": {
   "display_name": ".venv",
   "language": "python",
   "name": "python3"
  },
  "language_info": {
   "codemirror_mode": {
    "name": "ipython",
    "version": 3
   },
   "file_extension": ".py",
   "mimetype": "text/x-python",
   "name": "python",
   "nbconvert_exporter": "python",
   "pygments_lexer": "ipython3",
   "version": "3.11.1"
  },
  "orig_nbformat": 4
 },
 "nbformat": 4,
 "nbformat_minor": 2
}
